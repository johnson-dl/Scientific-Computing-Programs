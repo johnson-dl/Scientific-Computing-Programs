{
 "cells": [
  {
   "cell_type": "code",
   "execution_count": 166,
   "metadata": {},
   "outputs": [],
   "source": [
    "#Linear Regression \n",
    "\n",
    "#Generate Data and Create Sample Size\n",
    "\n",
    "#Import libraries to quality check custom functions that are created from scratch \n",
    "import numpy as np\n",
    "import matplotlib.pyplot as plt \n",
    "from scipy import stats\n",
    "\n",
    "#Generate mean and covariance for variables\n",
    "mean = [7.8, 3.5]  #means for iv and dv\n",
    "cov = [[1, -0.759], [-0.759, 1]] #covariance matrix. \n",
    "\n",
    "#Create size of dataset\n",
    "nsize = 45\n",
    "\n",
    "##Simulate data (Independent Variable and Dependent variable variable)\n",
    "iv, dv = np.random.multivariate_normal(mean, cov, size = nsize).T"
   ]
  },
  {
   "cell_type": "code",
   "execution_count": 167,
   "metadata": {},
   "outputs": [
    {
     "name": "stdout",
     "output_type": "stream",
     "text": [
      "159.3985190272053 159.3985190272053\n"
     ]
    }
   ],
   "source": [
    "#Create Sum function \n",
    "def mysum(x):\n",
    "    sumx = 0\n",
    "    for i in range(0,len(x)):\n",
    "        sumx = sumx+x[i]\n",
    "    return(sumx)\n",
    "\n",
    "#Run check of custom sum function\n",
    "check = mysum(dv)\n",
    "proper = sum(dv)\n",
    "print(check, proper)"
   ]
  },
  {
   "cell_type": "code",
   "execution_count": 168,
   "metadata": {},
   "outputs": [],
   "source": [
    "#Build Regression Function yielding intercept, slope, and residuals in list form\n",
    "\n",
    "def OLSRegression(iv, dv):\n",
    "    #Compute Variables for b0 and b1\n",
    "    sumx = mysum(iv)\n",
    "    sumy = mysum(dv)\n",
    "\n",
    "    x2 = iv**2\n",
    "    sumx_sqr = mysum(x2)\n",
    "\n",
    "    xy = iv*dv\n",
    "    sumxy = mysum(xy)\n",
    "    \n",
    "    #b0 and b1 calculation\n",
    "    b_0 = ((sumy*(sumx_sqr))-(sumx*sumxy))/((nsize*(sumx_sqr))-(sumx)**2)\n",
    "    b_1 = ((nsize*sumxy)-(sumx*sumy))/((nsize*sumx_sqr)-((sumx)**2))\n",
    "    \n",
    "    \n",
    "    #Regression Model and Residuals\n",
    "    #List comprehension derived via Real Python Example from Slack Channel\n",
    "    predicted_y = [b_0+ (b_1*i) for i in iv] \n",
    "    residuals = [(dv[i] - predicted_y[i]) for i in range(min(len(dv), len(predicted_y)))]\n",
    "    #Change residuals to list\n",
    "    residuals = list(residuals)\n",
    "    \n",
    "    print('Intercept:',b_0, \n",
    "          'Slope:',b_1, \n",
    "          'Residuals:',residuals)"
   ]
  },
  {
   "cell_type": "code",
   "execution_count": 169,
   "metadata": {},
   "outputs": [
    {
     "name": "stdout",
     "output_type": "stream",
     "text": [
      "Intercept: 9.358613829172794 Slope: -0.7494187746212208 Residuals: [0.4256459265338277, -0.6823057712639597, -0.21587112728569902, -0.2059046625253207, 0.6821719285830659, 0.787609014123146, 0.570521910494393, -0.06277754611226882, 0.719363168131979, 0.4581351413028196, -0.1100287642819815, 0.30280388790638835, 1.526455284855933, 0.07270681965028736, 0.1640747166120322, 0.4406932683150888, -0.5895526495751948, -0.5641983734120339, 0.686832602478586, -0.2663799016398656, 0.43036877445088306, -0.06509159274370235, -1.3007379451450078, -0.3785283689587682, 0.7837428281859093, 0.21074018148685347, -0.11908396742811167, 0.19721867225452394, -0.0926869325431765, -0.11860245032675243, -0.5927239550259857, -0.8257833148952192, 0.9640162909719345, 0.09563699457216579, -1.1544131650701828, -1.5609782393754583, 0.3018176422506955, -0.33317265762724757, -0.26579477661668083, -0.27414537773895775, -0.0057594896335437795, 0.48041737639441084, -0.4929377247112319, -0.2751405455400713, 0.2516268699231481]\n"
     ]
    }
   ],
   "source": [
    "#Call of function on generated data\n",
    "OLSRegression(iv, dv)"
   ]
  },
  {
   "cell_type": "code",
   "execution_count": null,
   "metadata": {},
   "outputs": [],
   "source": []
  }
 ],
 "metadata": {
  "kernelspec": {
   "display_name": "Python 3",
   "language": "python",
   "name": "python3"
  },
  "language_info": {
   "codemirror_mode": {
    "name": "ipython",
    "version": 3
   },
   "file_extension": ".py",
   "mimetype": "text/x-python",
   "name": "python",
   "nbconvert_exporter": "python",
   "pygments_lexer": "ipython3",
   "version": "3.6.8"
  }
 },
 "nbformat": 4,
 "nbformat_minor": 2
}
