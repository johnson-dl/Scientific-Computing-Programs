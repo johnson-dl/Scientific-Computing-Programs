{
 "cells": [
  {
   "cell_type": "code",
   "execution_count": 1,
   "metadata": {},
   "outputs": [],
   "source": [
    "#Create Dataset\n",
    "import numpy as np\n",
    "\n",
    "#Generate mean and covariance for variables\n",
    "mean = [4.5, 6.9]  #means for iv and dv\n",
    "cov = [[1, -0.321], [-0.321, 1]] #covariance matrix.\n",
    "\n",
    "#Create size of dataset\n",
    "nsize = 60\n",
    "\n",
    "##Simulate data (Independent Variable and Dependent variable variable)\n",
    "x, y = np.random.multivariate_normal(mean, cov, size = nsize).T"
   ]
  },
  {
   "cell_type": "code",
   "execution_count": 3,
   "metadata": {},
   "outputs": [],
   "source": [
    "class Regression():\n",
    "    \"\"\" A useful tool to run regression analyses on data \n",
    "        will provide the slope and intercept of a line along with \n",
    "        a list of residuals and the r squared of the model \"\"\"\n",
    "    \n",
    "    def __init__(self, x, y):\n",
    "        self.nsize = len(x)\n",
    "        \n",
    "        #Compute Variables for b0 and b1\n",
    "        self.x = x\n",
    "        self.y = y\n",
    "        self.sumx = sum(x)\n",
    "        self.sumy = sum(y)\n",
    "        self.x2 = self.x**2\n",
    "        self.sumx_sqr = sum(self.x2)\n",
    "        self.xy = x*y\n",
    "        self.sumxy = sum(self.xy)\n",
    "        \n",
    "        #For R Squared \n",
    "        self.xsqr = self.x**2\n",
    "        self.sumx_sqr = sum(self.xsqr)\n",
    "        self.ysqr = self.y**2\n",
    "        self.sumy_sqr = sum(self.ysqr)\n",
    "        self.xy = self.x*self.y\n",
    "        self.sum_xy = sum(self.xy)\n",
    "\n",
    "    def intercept(self):\n",
    "        \"\"\" Return the slope of the regression line. \"\"\"\n",
    "        self.b_0 = ((self.sumy*(self.sumx_sqr))-(self.sumx*self.sumxy))/((self.nsize*(self.sumx_sqr))-(self.sumx)**2)\n",
    "        return self.b_0\n",
    "\n",
    "    def slope(self):\n",
    "        self.b_1 = ((self.nsize*self.sumxy)-(self.sumx*self.sumy))/((self.nsize*self.sumx_sqr)-((self.sumx)**2))\n",
    "        return self.b_1\n",
    "\n",
    "    def residuals(self):\n",
    "        \"\"\" Outputs a list of residuals from the OLS regression model\"\"\"\n",
    "        self.predicted_y = [self.b_0 + (self.b_1*i) for i in self.x]  #regression model\n",
    "        self.residuals = [(self.y[i] - self.predicted_y[i]) for i in range(min(len(self.y), len(self.predicted_y)))]\n",
    "        #self.residuals = list(self.residuals) #Change residuals to list - Unnecessary \n",
    "        return self.residuals\n",
    "    \n",
    "    def rsquared(self):\n",
    "        self.numerator = (self.nsize*(self.sum_xy) - (self.sumx*self.sumy))\n",
    "        self.denominator_squared = ((self.nsize*self.sumx_sqr - (self.sumx**2)) * (self.nsize*self.sumy_sqr - (self.sumy**2)))\n",
    "        self.denominator = ((self.denominator_squared)**(1/2))\n",
    "        self.r = (self.numerator/self.denominator)\n",
    "        self.rsquared = (self.r)**2\n",
    "        return self.rsquared\n",
    "        "
   ]
  },
  {
   "cell_type": "code",
   "execution_count": 39,
   "metadata": {},
   "outputs": [
    {
     "name": "stdout",
     "output_type": "stream",
     "text": [
      "-0.2847659131439026\n",
      "8.15546341540138\n"
     ]
    }
   ],
   "source": [
    "reg = Regression(x,y)\n",
    "intercept = reg.intercept()\n",
    "slope = reg.slope()\n",
    "residuals = reg.residuals()\n",
    "rsquared = reg.rsquared()\n",
    "#print(slope)\n",
    "#print(intercept)\n",
    "#print(residuals)\n",
    "#print(rsquared)"
   ]
  },
  {
   "cell_type": "code",
   "execution_count": 18,
   "metadata": {},
   "outputs": [],
   "source": [
    "#Correlation class with coef method\n",
    "class Correlation(Regression):\n",
    "    pass #bring in all methods from regression\n",
    "     \n",
    "    def coeff(self): #create coeff from r_squared method from Regression\n",
    "        self.r = (rsquared)**(1/2)\n",
    "        return self.r\n"
   ]
  },
  {
   "cell_type": "code",
   "execution_count": 30,
   "metadata": {},
   "outputs": [
    {
     "data": {
      "text/plain": [
       "0.2415554366983289"
      ]
     },
     "execution_count": 30,
     "metadata": {},
     "output_type": "execute_result"
    }
   ],
   "source": [
    "coeff_r = Correlation2(x,y)\n",
    "coeff_r.coeff()"
   ]
  },
  {
   "cell_type": "code",
   "execution_count": 33,
   "metadata": {},
   "outputs": [
    {
     "data": {
      "text/plain": [
       "array([[ 1.        , -0.24155544],\n",
       "       [-0.24155544,  1.        ]])"
      ]
     },
     "execution_count": 33,
     "metadata": {},
     "output_type": "execute_result"
    }
   ],
   "source": [
    "#Check of Correlation Using numpy\n",
    "import numpy as np\n",
    "np.corrcoef(x,y)"
   ]
  },
  {
   "cell_type": "code",
   "execution_count": 34,
   "metadata": {},
   "outputs": [
    {
     "name": "stdout",
     "output_type": "stream",
     "text": [
      "[1.1389256294958336, -0.6890795180632914, -2.9457126295226574, 0.5146902211649351, -0.23653773259128386, 0.6470091990840388, 2.7470095615183325, 4.490518130886199, 1.0714180558307973, 0.7009141441075979, -0.5441733977661158, -2.9209088740848, 0.6304981911283347, -1.3401855910081943, 3.957043027010746, 1.9897184233781005, 0.2893085623625593, -2.910567282040791, -3.124947861506861, -2.008619810222056, 1.0479828488952325, 2.711784224319792, -0.31897470887356594, 1.2138510994382692, 1.608154707649299, 0.7048355674139435, 1.6944216122932225, 0.8397385906877934, 1.7063327909128443, 1.3317830980179437, 0.8644581955913297, 0.5210128000848231, -0.19881859700705107, 1.37232240957694, -0.49228455443992747, 0.1644525970352806, 1.1453495336641595, 0.24984996692067352, 0.7949585358728726, -1.3815849247664929, 1.113469262612787, -1.665366009578058, -2.43230124348856, 0.7085177896017827, 2.795835620984315, 0.2855073879800951, -1.838251763724407, 0.8879058702421254, 3.3554149823943673, 0.8213861032561445, 2.5015551387944397, -2.8789526198997315, 2.996983475442522, -0.06056857971922547, -1.5074771099507158, -3.2754821605139712, 1.345720852831608, 1.7610758042152819, 0.7862734097951307, -3.922961885916867]\n"
     ]
    }
   ],
   "source": [
    "#Check of regression using stats models\n",
    "import statsmodels.api as sm\n",
    "\n",
    "ols_model = sm.OLS(y, x).fit()\n",
    "predictions = ols_model.predict(x)\n",
    "residuals = [(y[i] - predictions[i]) for i in range(min(len(y), len(predictions)))]\n",
    "print(residuals)"
   ]
  },
  {
   "cell_type": "code",
   "execution_count": 28,
   "metadata": {},
   "outputs": [
    {
     "name": "stdout",
     "output_type": "stream",
     "text": [
      "                                 OLS Regression Results                                \n",
      "=======================================================================================\n",
      "Dep. Variable:                      y   R-squared (uncentered):                   0.927\n",
      "Model:                            OLS   Adj. R-squared (uncentered):              0.926\n",
      "Method:                 Least Squares   F-statistic:                              747.9\n",
      "Date:                Tue, 01 Oct 2019   Prob (F-statistic):                    3.31e-35\n",
      "Time:                        20:04:55   Log-Likelihood:                         -123.27\n",
      "No. Observations:                  60   AIC:                                      248.5\n",
      "Df Residuals:                      59   BIC:                                      250.6\n",
      "Df Model:                           1                                                  \n",
      "Covariance Type:            nonrobust                                                  \n",
      "==============================================================================\n",
      "                 coef    std err          t      P>|t|      [0.025      0.975]\n",
      "------------------------------------------------------------------------------\n",
      "x1             1.5021      0.055     27.348      0.000       1.392       1.612\n",
      "==============================================================================\n",
      "Omnibus:                        1.146   Durbin-Watson:                   1.577\n",
      "Prob(Omnibus):                  0.564   Jarque-Bera (JB):                1.120\n",
      "Skew:                          -0.312   Prob(JB):                        0.571\n",
      "Kurtosis:                       2.760   Cond. No.                         1.00\n",
      "==============================================================================\n",
      "\n",
      "Warnings:\n",
      "[1] Standard Errors assume that the covariance matrix of the errors is correctly specified.\n"
     ]
    }
   ],
   "source": [
    "print_model = ols_model.summary()\n",
    "print(print_model)"
   ]
  },
  {
   "cell_type": "code",
   "execution_count": null,
   "metadata": {},
   "outputs": [],
   "source": []
  }
 ],
 "metadata": {
  "kernelspec": {
   "display_name": "Python 3",
   "language": "python",
   "name": "python3"
  },
  "language_info": {
   "codemirror_mode": {
    "name": "ipython",
    "version": 3
   },
   "file_extension": ".py",
   "mimetype": "text/x-python",
   "name": "python",
   "nbconvert_exporter": "python",
   "pygments_lexer": "ipython3",
   "version": "3.6.8"
  }
 },
 "nbformat": 4,
 "nbformat_minor": 2
}
